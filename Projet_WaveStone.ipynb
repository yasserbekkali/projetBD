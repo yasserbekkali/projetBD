{
 "cells": [
  {
   "cell_type": "markdown",
   "metadata": {},
   "source": [
    "# Projet WaveStone :"
   ]
  },
  {
   "cell_type": "markdown",
   "metadata": {},
   "source": [
    "#### Objectif : Prédictions des ventes dans les magasins"
   ]
  },
  {
   "cell_type": "markdown",
   "metadata": {},
   "source": [
    "### Description de la base de données\n",
    "\n",
    "- Id - an Id that represents a (Store, Date) duple within the test set\n",
    "\n",
    "- Store - a unique Id for each store\n",
    "\n",
    "- Sales - the turnover for any given day\n",
    "\n",
    "- Customers - the number of customers on a given day\n",
    "\n",
    "- Open - an indicator for whether the store was open: 0 = closed, 1 = open\n",
    "\n",
    "- StateHoliday - indicates a state holiday. Normally all stores, with few exceptions, are closed on state holidays. Note that all schools are closed on public holidays and weekends. a = public holiday, b = Easter holiday, c = Christmas, 0 = None\n",
    "\n",
    "- SchoolHoliday - indicates if the (Store, Date) was affected by the closure of public schools\n",
    "\n",
    "- StoreType - differentiates between 4 different store models: a, b, c, d\n",
    "\n",
    "- Assortment - describes an assortment level: a = basic, b = extra, c = extended\n",
    "\n",
    "- CompetitionDistance - distance in meters to the nearest competitor store\n",
    "\n",
    "- CompetitionOpenSince[Month/Year] - gives the approximate year and month of the time the nearest competitor was opened\n",
    "\n",
    "- Promo - indicates whether a store is running a promo on that day\n",
    "\n",
    "- Promo2 - Promo2 is a continuing and consecutive promotion for some stores: 0 = store is not participating, 1 = store is participating\n",
    "\n",
    "- Promo2Since[Year/Week] - describes the year and calendar week when the store started participating in Promo2\n",
    "\n",
    "- PromoInterval - describes the consecutive intervals Promo2 is started, naming the months the promotion is started anew. E.g. \"Feb,May,Aug,Nov\" means each round starts in February, May, August, November of any given year for that store"
   ]
  },
  {
   "cell_type": "markdown",
   "metadata": {},
   "source": [
    "## 1 - Importation des libraires"
   ]
  },
  {
   "cell_type": "code",
   "execution_count": 1,
   "metadata": {},
   "outputs": [],
   "source": [
    "import warnings\n",
    "warnings.filterwarnings(\"ignore\")\n",
    "import numpy as np\n",
    "import pandas as pd\n",
    "from matplotlib import pyplot as plt\n",
    "import seaborn as sns\n",
    "import missingno as msno\n",
    "import itertools\n",
    "from scipy import stats\n",
    "%matplotlib inline"
   ]
  },
  {
   "cell_type": "markdown",
   "metadata": {},
   "source": [
    "## 2 - Chargement de données"
   ]
  },
  {
   "cell_type": "code",
   "execution_count": 2,
   "metadata": {},
   "outputs": [],
   "source": [
    "train = pd.read_csv(\"train.csv\")\n",
    "store = pd.read_csv(\"store.csv\")"
   ]
  },
  {
   "cell_type": "markdown",
   "metadata": {},
   "source": [
    "## 3 - Analyse exploratoire de données"
   ]
  },
  {
   "cell_type": "markdown",
   "metadata": {},
   "source": [
    "### 3.1 - Transformations et statistiques"
   ]
  },
  {
   "cell_type": "code",
   "execution_count": null,
   "metadata": {},
   "outputs": [],
   "source": [
    "train.head()"
   ]
  },
  {
   "cell_type": "code",
   "execution_count": null,
   "metadata": {},
   "outputs": [],
   "source": [
    "store.head()"
   ]
  },
  {
   "cell_type": "code",
   "execution_count": null,
   "metadata": {},
   "outputs": [],
   "source": [
    "print(\" Le nombre des magasins fermés certains jours : {}\".format(train[(train.Open == 0)].count()[0]))  \n",
    "print(\" dont pour uniquement vacances scolaires : {}\".format(train[(train.Open == 0) & (train.SchoolHoliday == 1) & (train.StateHoliday == '0')].count()[0]))    \n",
    "print(\" et pour StateHolidays (hors vacances scolaires) : {}\".format(train[(train.Open == 0) & (train.SchoolHoliday == 0 ) & (train.StateHoliday == 'a') | (train.StateHoliday == 'b') |  (train.StateHoliday == 'c')].count()[0]))  \n",
    "print(\" et pour StateHolidays (vacances scolaires comprises) : {}\".format(train[(train.Open == 0) & (train.StateHoliday == 'a') | (train.StateHoliday == 'b') |  (train.StateHoliday == 'c')].count()[0]))  \n",
    "print(\" et pour aucune de ces raisons : {} \".format(train[(train.Open == 0) & (train. StateHoliday == '0') & (train.SchoolHoliday == 0)].count()[0])) "
   ]
  },
  {
   "cell_type": "code",
   "execution_count": 5,
   "metadata": {},
   "outputs": [],
   "source": [
    "# Transformation de Date en format datetime\n",
    "train['year'] = train['Date'].apply(lambda x: x.split(\"-\")[0])\n",
    "train['month'] = train['Date'].apply(lambda x: x.split(\"-\")[1])\n",
    "train['day'] = train['Date'].apply(lambda x: x.split(\"-\")[2])\n",
    "train['DateTime'] = pd.to_datetime(train[['year','month', 'day']])\n",
    "train = train.drop(['Date'],axis=1)"
   ]
  },
  {
   "cell_type": "code",
   "execution_count": null,
   "metadata": {},
   "outputs": [],
   "source": [
    "train.dtypes"
   ]
  },
  {
   "cell_type": "code",
   "execution_count": 3,
   "metadata": {},
   "outputs": [],
   "source": [
    "# On supprime toutes les lignes qui correspondent à des magasins fermés avec 0 ventes\n",
    "train = train[(train[\"Open\"] != 0) & (train['Sales'] != 0)]"
   ]
  },
  {
   "cell_type": "markdown",
   "metadata": {},
   "source": [
    "### 3.2 - Statistiques sur les valeurs manquantes"
   ]
  },
  {
   "cell_type": "code",
   "execution_count": 4,
   "metadata": {},
   "outputs": [
    {
     "data": {
      "text/html": [
       "<div>\n",
       "<style scoped>\n",
       "    .dataframe tbody tr th:only-of-type {\n",
       "        vertical-align: middle;\n",
       "    }\n",
       "\n",
       "    .dataframe tbody tr th {\n",
       "        vertical-align: top;\n",
       "    }\n",
       "\n",
       "    .dataframe thead th {\n",
       "        text-align: right;\n",
       "    }\n",
       "</style>\n",
       "<table border=\"1\" class=\"dataframe\">\n",
       "  <thead>\n",
       "    <tr style=\"text-align: right;\">\n",
       "      <th></th>\n",
       "      <th>Total</th>\n",
       "      <th>Percent</th>\n",
       "    </tr>\n",
       "  </thead>\n",
       "  <tbody>\n",
       "    <tr>\n",
       "      <th>SchoolHoliday</th>\n",
       "      <td>0</td>\n",
       "      <td>0.0</td>\n",
       "    </tr>\n",
       "    <tr>\n",
       "      <th>StateHoliday</th>\n",
       "      <td>0</td>\n",
       "      <td>0.0</td>\n",
       "    </tr>\n",
       "    <tr>\n",
       "      <th>Promo</th>\n",
       "      <td>0</td>\n",
       "      <td>0.0</td>\n",
       "    </tr>\n",
       "    <tr>\n",
       "      <th>Open</th>\n",
       "      <td>0</td>\n",
       "      <td>0.0</td>\n",
       "    </tr>\n",
       "    <tr>\n",
       "      <th>Customers</th>\n",
       "      <td>0</td>\n",
       "      <td>0.0</td>\n",
       "    </tr>\n",
       "    <tr>\n",
       "      <th>Sales</th>\n",
       "      <td>0</td>\n",
       "      <td>0.0</td>\n",
       "    </tr>\n",
       "    <tr>\n",
       "      <th>Date</th>\n",
       "      <td>0</td>\n",
       "      <td>0.0</td>\n",
       "    </tr>\n",
       "    <tr>\n",
       "      <th>DayOfWeek</th>\n",
       "      <td>0</td>\n",
       "      <td>0.0</td>\n",
       "    </tr>\n",
       "    <tr>\n",
       "      <th>Store</th>\n",
       "      <td>0</td>\n",
       "      <td>0.0</td>\n",
       "    </tr>\n",
       "  </tbody>\n",
       "</table>\n",
       "</div>"
      ],
      "text/plain": [
       "               Total  Percent\n",
       "SchoolHoliday      0      0.0\n",
       "StateHoliday       0      0.0\n",
       "Promo              0      0.0\n",
       "Open               0      0.0\n",
       "Customers          0      0.0\n",
       "Sales              0      0.0\n",
       "Date               0      0.0\n",
       "DayOfWeek          0      0.0\n",
       "Store              0      0.0"
      ]
     },
     "execution_count": 4,
     "metadata": {},
     "output_type": "execute_result"
    }
   ],
   "source": [
    "# Statistiques \n",
    "total = train.isnull().sum().sort_values(ascending = False)\n",
    "percent = round(train.isnull().sum().sort_values(ascending = False)/len(train)*100, 2)\n",
    "pd.concat([total, percent], axis = 1,keys= ['Total', 'Percent'])"
   ]
  },
  {
   "cell_type": "code",
   "execution_count": 6,
   "metadata": {},
   "outputs": [
    {
     "data": {
      "text/html": [
       "<div>\n",
       "<style scoped>\n",
       "    .dataframe tbody tr th:only-of-type {\n",
       "        vertical-align: middle;\n",
       "    }\n",
       "\n",
       "    .dataframe tbody tr th {\n",
       "        vertical-align: top;\n",
       "    }\n",
       "\n",
       "    .dataframe thead th {\n",
       "        text-align: right;\n",
       "    }\n",
       "</style>\n",
       "<table border=\"1\" class=\"dataframe\">\n",
       "  <thead>\n",
       "    <tr style=\"text-align: right;\">\n",
       "      <th></th>\n",
       "      <th>Total</th>\n",
       "      <th>Percent</th>\n",
       "    </tr>\n",
       "  </thead>\n",
       "  <tbody>\n",
       "    <tr>\n",
       "      <th>PromoInterval</th>\n",
       "      <td>544</td>\n",
       "      <td>48.79</td>\n",
       "    </tr>\n",
       "    <tr>\n",
       "      <th>Promo2SinceYear</th>\n",
       "      <td>544</td>\n",
       "      <td>48.79</td>\n",
       "    </tr>\n",
       "    <tr>\n",
       "      <th>Promo2SinceWeek</th>\n",
       "      <td>544</td>\n",
       "      <td>48.79</td>\n",
       "    </tr>\n",
       "    <tr>\n",
       "      <th>CompetitionOpenSinceYear</th>\n",
       "      <td>354</td>\n",
       "      <td>31.75</td>\n",
       "    </tr>\n",
       "    <tr>\n",
       "      <th>CompetitionOpenSinceMonth</th>\n",
       "      <td>354</td>\n",
       "      <td>31.75</td>\n",
       "    </tr>\n",
       "    <tr>\n",
       "      <th>CompetitionDistance</th>\n",
       "      <td>3</td>\n",
       "      <td>0.27</td>\n",
       "    </tr>\n",
       "    <tr>\n",
       "      <th>Promo2</th>\n",
       "      <td>0</td>\n",
       "      <td>0.00</td>\n",
       "    </tr>\n",
       "    <tr>\n",
       "      <th>Assortment</th>\n",
       "      <td>0</td>\n",
       "      <td>0.00</td>\n",
       "    </tr>\n",
       "    <tr>\n",
       "      <th>StoreType</th>\n",
       "      <td>0</td>\n",
       "      <td>0.00</td>\n",
       "    </tr>\n",
       "    <tr>\n",
       "      <th>Store</th>\n",
       "      <td>0</td>\n",
       "      <td>0.00</td>\n",
       "    </tr>\n",
       "  </tbody>\n",
       "</table>\n",
       "</div>"
      ],
      "text/plain": [
       "                           Total  Percent\n",
       "PromoInterval                544    48.79\n",
       "Promo2SinceYear              544    48.79\n",
       "Promo2SinceWeek              544    48.79\n",
       "CompetitionOpenSinceYear     354    31.75\n",
       "CompetitionOpenSinceMonth    354    31.75\n",
       "CompetitionDistance            3     0.27\n",
       "Promo2                         0     0.00\n",
       "Assortment                     0     0.00\n",
       "StoreType                      0     0.00\n",
       "Store                          0     0.00"
      ]
     },
     "execution_count": 6,
     "metadata": {},
     "output_type": "execute_result"
    }
   ],
   "source": [
    "total = store.isnull().sum().sort_values(ascending = False)\n",
    "percent = round(store.isnull().sum().sort_values(ascending = False)/len(store)*100, 2)\n",
    "pd.concat([total, percent], axis = 1,keys= ['Total', 'Percent'])"
   ]
  },
  {
   "cell_type": "code",
   "execution_count": null,
   "metadata": {},
   "outputs": [],
   "source": [
    "msno.matrix(train)"
   ]
  },
  {
   "cell_type": "markdown",
   "metadata": {},
   "source": [
    "### 3.3 - Remplacer les valeurs manquantes"
   ]
  },
  {
   "cell_type": "code",
   "execution_count": 7,
   "metadata": {},
   "outputs": [],
   "source": [
    "# Quand on a pas de promo2, il n'y a pas de Promo2SinceYear et Promo2SinceWeek, on met les valeurs à 0\n",
    "store.Promo2SinceYear[store.Promo2 == 0]= int(0)\n",
    "store.Promo2SinceWeek[store.Promo2 == 0]= int(0)\n",
    "store.PromoInterval[store.Promo2 == 0]= int(0)\n",
    "\n",
    "# On remplace par la médiane les valeurs dans CompetitionOpenSinceMonth/Year\n",
    "store['CompetitionOpenSinceMonth'].fillna(store['CompetitionOpenSinceMonth'].median(), inplace = True)\n",
    "store['CompetitionOpenSinceYear'].fillna(store['CompetitionOpenSinceYear'].median(), inplace = True)\n"
   ]
  },
  {
   "cell_type": "code",
   "execution_count": 8,
   "metadata": {},
   "outputs": [],
   "source": [
    "store['CompetitionDistance'].fillna(store['CompetitionDistance'].median(), inplace = True)\n"
   ]
  },
  {
   "cell_type": "code",
   "execution_count": null,
   "metadata": {},
   "outputs": [],
   "source": [
    "msno.matrix(store)"
   ]
  },
  {
   "cell_type": "markdown",
   "metadata": {},
   "source": [
    "### 3.4 - Transformer les valeurs qualitatives par des valeurs quantitatives"
   ]
  },
  {
   "cell_type": "code",
   "execution_count": 9,
   "metadata": {},
   "outputs": [],
   "source": [
    "store_modalites = store.copy()\n",
    "\n",
    "store_modalites['StoreTypeA'] = 0\n",
    "store_modalites['StoreTypeB'] = 0\n",
    "store_modalites['StoreTypeC'] = 0\n",
    "store_modalites['StoreTypeD'] = 0\n",
    "\n",
    "store_modalites.StoreTypeA[store_modalites.StoreType == 'a']= 1\n",
    "store_modalites.StoreTypeB[store_modalites.StoreType == 'b']= 1\n",
    "store_modalites.StoreTypeC[store_modalites.StoreType == 'c']= 1\n",
    "store_modalites.StoreTypeD[store_modalites.StoreType == 'd']= 1\n",
    "store_modalites = store_modalites.drop('StoreType',axis=1)\n",
    "\n",
    "\n",
    "store_modalites['AssortBasic'] = 0\n",
    "store_modalites['AssortExtra'] = 0\n",
    "store_modalites['AssortExtended'] = 0\n",
    "\n",
    "store_modalites.AssortBasic[store_modalites.Assortment == 'a']= 1\n",
    "store_modalites.AssortExtra[store_modalites.Assortment == 'b']= 1\n",
    "store_modalites.AssortExtended[store_modalites.Assortment == 'c']= 1\n",
    "\n",
    "store_modalites = store_modalites.drop('Assortment',axis=1)\n",
    "\n",
    "store_modalites['PromoJan'] = 0\n",
    "store_modalites['PromoFeb'] = 0\n",
    "store_modalites['PromoMar'] = 0\n",
    "store_modalites.PromoJan[store_modalites.PromoInterval == 'Jan,Apr,Jul,Oct']= 1\n",
    "store_modalites.PromoFeb[store_modalites.PromoInterval == 'Feb,May,Aug,Nov']=1\n",
    "store_modalites.PromoMar[store_modalites.PromoInterval == 'Mar,Jun,Sept,Dec']=1\n",
    "store_modalites = store_modalites.drop(['PromoInterval'],axis=1)\n",
    "\n",
    "train_modalites = train.copy()\n",
    "\n",
    "train_modalites['StateHolidayNone'] = 0\n",
    "train_modalites['StateHolidayA'] = 0\n",
    "train_modalites['StateHolidayB'] = 0\n",
    "train_modalites['StateHolidayC'] = 0\n",
    "\n",
    "train_modalites.StateHolidayNone[train_modalites.StateHoliday == '0']= 1\n",
    "train_modalites.StateHolidayA[train_modalites.StateHoliday == 'a']= 1\n",
    "train_modalites.StateHolidayB[train_modalites.StateHoliday == 'b']= 1\n",
    "train_modalites.StateHolidayC[train_modalites.StateHoliday == 'c']= 1\n",
    "train_modalites = train_modalites.drop('StateHoliday',axis=1)"
   ]
  },
  {
   "cell_type": "markdown",
   "metadata": {},
   "source": [
    "### 3.5 - Fusion des deux datasets"
   ]
  },
  {
   "cell_type": "code",
   "execution_count": 10,
   "metadata": {},
   "outputs": [],
   "source": [
    "train_store_modalites = pd.merge(train_modalites, store_modalites, how = 'inner', on = 'Store')\n",
    "train_store = pd.merge(train, store, how = 'inner', on = 'Store')"
   ]
  },
  {
   "cell_type": "markdown",
   "metadata": {},
   "source": [
    "### 3.6 - Visualisation de données"
   ]
  },
  {
   "cell_type": "code",
   "execution_count": 11,
   "metadata": {},
   "outputs": [
    {
     "data": {
      "image/png": "[encoded data removed]",
      "text/plain": [
       "<Figure size 864x576 with 2 Axes>"
      ]
     },
     "metadata": {},
     "output_type": "display_data"
    },
    {
     "data": {
      "text/plain": [
       "<Figure size 432x288 with 0 Axes>"
      ]
     },
     "metadata": {},
     "output_type": "display_data"
    }
   ],
   "source": [
    "catcols = ['Store','StoreType','Assortment','PromoInterval']\n",
    "numcols = [x for x in store.columns if x not in catcols]\n",
    "plt.figure(figsize = (12,8))\n",
    "sns.heatmap(data=store[numcols].corr())\n",
    "plt.show()\n",
    "plt.gcf().clear()"
   ]
  },
  {
   "cell_type": "code",
   "execution_count": 12,
   "metadata": {},
   "outputs": [
    {
     "data": {
      "image/png": "[encoded data removed]",
      "text/plain": [
       "<Figure size 864x576 with 2 Axes>"
      ]
     },
     "metadata": {},
     "output_type": "display_data"
    },
    {
     "data": {
      "text/plain": [
       "<Figure size 432x288 with 0 Axes>"
      ]
     },
     "metadata": {},
     "output_type": "display_data"
    }
   ],
   "source": [
    "catcols = []\n",
    "numcols = [x for x in train.columns if x not in catcols]\n",
    "plt.figure(figsize = (12,8))\n",
    "sns.heatmap(data=train[numcols].corr())\n",
    "plt.show()\n",
    "plt.gcf().clear()"
   ]
  },
  {
   "cell_type": "code",
   "execution_count": 13,
   "metadata": {},
   "outputs": [],
   "source": [
    "train_store['SalesperCustomer'] = train_store['Sales']/train_store['Customers']\n",
    "dts = train_store.copy()"
   ]
  },
  {
   "cell_type": "code",
   "execution_count": null,
   "metadata": {},
   "outputs": [],
   "source": [
    "fig, axes = plt.subplots(3, 2,figsize=(20,20) )\n",
    "palette = itertools.cycle(sns.color_palette(n_colors=4))\n",
    "plt.subplots_adjust(hspace = 0.28)\n",
    "#axes[1].df_train_store.groupby(by=\"StoreType\").count().Store.plot(kind='bar')\n",
    "axes[0,0].bar(store.groupby(by=\"StoreType\").count().Store.index,store.groupby(by=\"StoreType\").count().Store,color=[next(palette),next(palette),next(palette),next(palette)])\n",
    "axes[0,0].set_title(\"N store / Store type \\n Fig 1.1\")\n",
    "axes[0,1].bar(dts.groupby(by=\"StoreType\").sum().Sales.index,dts.groupby(by=\"StoreType\").sum().Sales,color=[next(palette),next(palette),next(palette),next(palette)])\n",
    "axes[0,1].set_title(\"N Sales / Store type \\n Fig 1.2\")\n",
    "axes[2,0].bar(dts.groupby(by=\"StoreType\").sum().Customers.index,dts.groupby(by=\"StoreType\").sum().Customers,color=[next(palette),next(palette),next(palette),next(palette)])\n",
    "axes[2,0].set_title(\"N Customers / Store Type  \\n Fig 1.3\")\n",
    "axes[1,0].bar(dts.groupby(by=\"StoreType\").sum().Customers.index,dts.groupby(by=\"StoreType\").Sales.mean(),color=[next(palette),next(palette),next(palette),next(palette)])\n",
    "axes[1,0].set_title(\"Moyenne Sales / Store Type \\n Fig 1.4\")\n",
    "axes[1,1].bar(dts.groupby(by=\"StoreType\").sum().Customers.index,dts.groupby(by=\"StoreType\").Customers.mean(),color=[next(palette),next(palette),next(palette),next(palette)])\n",
    "axes[1,1].set_title(\"N Customers / Store Type \\n Fig 1.5\")\n",
    "axes[2,1].bar(dts.groupby(by=\"StoreType\").sum().Sales.index,dts.groupby(by=\"StoreType\").SalesperCustomer.mean(),color=[next(palette),next(palette),next(palette),next(palette)])\n",
    "axes[2,1].set_title(\"Moyenne Sales/cust / Store Type \\n Fig 1.6\")\n",
    "plt.show()"
   ]
  },
  {
   "cell_type": "code",
   "execution_count": null,
   "metadata": {},
   "outputs": [],
   "source": [
    "dts.dtypes"
   ]
  },
  {
   "cell_type": "code",
   "execution_count": 14,
   "metadata": {},
   "outputs": [
    {
     "data": {
      "text/plain": [
       "<seaborn.axisgrid.FacetGrid at 0x2643393f978>"
      ]
     },
     "execution_count": 14,
     "metadata": {},
     "output_type": "execute_result"
    },
    {
     "data": {
      "image/png": "[encoded data removed]",
      "text/plain": [
       "<Figure size 906.375x288 with 3 Axes>"
      ]
     },
     "metadata": {},
     "output_type": "display_data"
    }
   ],
   "source": [
    "\n",
    "sns.factorplot(data = dts, x =\"StoreType\", y = \"Sales\",\n",
    "                hue='Promo', col='year'\n",
    "              ,sharex=False)"
   ]
  },
  {
   "cell_type": "code",
   "execution_count": null,
   "metadata": {},
   "outputs": [],
   "source": [
    "sns.factorplot(data = dts, x =\"StoreType\", y = \"Customers\",\n",
    "                hue='Promo' , col='year'\n",
    "              ,sharex=False)"
   ]
  },
  {
   "cell_type": "code",
   "execution_count": null,
   "metadata": {
    "scrolled": true
   },
   "outputs": [],
   "source": [
    "\n",
    "sns.factorplot(data = dts, x =\"StoreType\", y = \"SalesperCustomer\",\n",
    "                hue='Promo' , col = 'year'\n",
    "              ,sharex=False)"
   ]
  },
  {
   "cell_type": "markdown",
   "metadata": {},
   "source": [
    "## Assortment :"
   ]
  },
  {
   "cell_type": "code",
   "execution_count": null,
   "metadata": {},
   "outputs": [],
   "source": [
    "\n",
    "sns.factorplot(data = dts, x =\"Assortment\", y = \"Sales\",\n",
    "                hue='Promo', col='year',sharex=False)"
   ]
  },
  {
   "cell_type": "code",
   "execution_count": null,
   "metadata": {},
   "outputs": [],
   "source": [
    "dts['StateHoliday']."
   ]
  },
  {
   "cell_type": "code",
   "execution_count": null,
   "metadata": {},
   "outputs": [],
   "source": [
    "fig1 , ax1 = plt.subplots(1 , 1 , figsize = (20 , 5))\n",
    "ax1.boxplot(train.Customers , showmeans=True , vert=False)\n",
    "ax1.set_xlim(0, max(train[\"Customers\"]))\n",
    "\n",
    "fig2 , ax2 = plt.subplots(1 , 1 , figsize = (20 , 5))\n",
    "ax2.hist(train.Customers , cumulative = False , bins = 30 )\n",
    "ax2.set_xlim((min(train.Customers) , max(train.Customers)))"
   ]
  },
  {
   "cell_type": "code",
   "execution_count": null,
   "metadata": {},
   "outputs": [],
   "source": [
    "print(\"pourcentage du nombre de clients > 2000 : {}\".format(train[train.Customers>2000].count()[0]/train.shape[0] * 100))"
   ]
  },
  {
   "cell_type": "code",
   "execution_count": null,
   "metadata": {},
   "outputs": [],
   "source": [
    "stats.pearsonr(train.Sales , train.Customers)"
   ]
  },
  {
   "cell_type": "code",
   "execution_count": null,
   "metadata": {},
   "outputs": [],
   "source": [
    "'''\n",
    "fig, axes = plt.subplots(1, 1,figsize=(20,20) )\n",
    "palette = itertools.cycle(sns.color_palette(n_colors=4))\n",
    "plt.subplots_adjust(hspace = 0.28)\n",
    "#axes[1].df_train_store.groupby(by=\"StoreType\").count().Store.plot(kind='bar')\n",
    "axes.bar(dts.groupby(by=\"DayOfWeek\").mean().Sales.index,dts.groupby(by=\"DayOfWeek\").mean().Sales,color=[next(palette),next(palette),next(palette),next(palette)])\n",
    "axes.set_title(\"N sales / day of week \\n Fig 1.1\")\n",
    "plt.show()\n",
    "'''"
   ]
  },
  {
   "cell_type": "code",
   "execution_count": null,
   "metadata": {},
   "outputs": [],
   "source": [
    "\n",
    "sns.factorplot(data = dts, x =\"DayOfWeek\", y = \"Sales\",\n",
    "                hue='Promo'\n",
    "              ,sharex=False)"
   ]
  },
  {
   "cell_type": "code",
   "execution_count": null,
   "metadata": {},
   "outputs": [],
   "source": [
    "\n",
    "sns.factorplot(data = dts, x =\"month\", y = \"Sales\", row='year' , \n",
    "                hue='Promo'\n",
    "              ,sharex=False)"
   ]
  },
  {
   "cell_type": "code",
   "execution_count": null,
   "metadata": {},
   "outputs": [],
   "source": [
    "\n",
    "sns.factorplot(data = dts, x =\"year\", y = \"Sales\",\n",
    "                hue='Promo'\n",
    "              ,sharex=False)"
   ]
  },
  {
   "cell_type": "code",
   "execution_count": null,
   "metadata": {},
   "outputs": [],
   "source": [
    "#penser à : ['StateHoliday', 'StoreType', 'Assortment']] = dts[['StateHoliday', 'StoreType', 'Assortment']].apply(lambda x: x.cat.codes)"
   ]
  },
  {
   "cell_type": "markdown",
   "metadata": {},
   "source": [
    "Choix des paramètres : "
   ]
  },
  {
   "cell_type": "code",
   "execution_count": null,
   "metadata": {},
   "outputs": [],
   "source": [
    "#from sklearn import metrics\n",
    "#params = {'max_depth':(4,6,8,10,12,14,16,20),\n",
    "#         'n_estimators':(4,8,16,24,48,72,96,128),\n",
    "#         'min_samples_split':(2,4,6,8,10)}\n",
    "#scoring_fnc = metrics.make_scorer(np.mean)\n",
    "#grid = model_selection.RandomizedSearchCV(estimator=regr,param_distributions=params,cv=10)\n",
    "#grid.best_param_"
   ]
  },
  {
   "cell_type": "markdown",
   "metadata": {},
   "source": [
    "## 4 - Modèles Machine learning"
   ]
  },
  {
   "cell_type": "code",
   "execution_count": null,
   "metadata": {},
   "outputs": [],
   "source": [
    "train_sorted_modalites = train_store_modalites.sort_values(by='DateTime')\n",
    "train_sorted_modalites = train_sorted_modalites.drop('Customers',axis=1)\n",
    "y = train_sorted_modalites['Sales']\n",
    "X = train_sorted_modalites.drop(['Sales','year','month', 'day'],axis=1)"
   ]
  },
  {
   "cell_type": "code",
   "execution_count": null,
   "metadata": {},
   "outputs": [],
   "source": [
    "X_train = X.iloc[:int(len(X)*0.8)]\n",
    "y_train = y.iloc[:int(len(X)*0.8)]\n",
    "X_test = X.iloc[int(len(X)*0.8):]\n",
    "y_test = y.iloc[int(len(X)*0.8):]\n",
    "X_train = X_train.drop('DateTime',axis=1)\n",
    "X_test = X_test.drop('DateTime',axis=1)"
   ]
  },
  {
   "cell_type": "code",
   "execution_count": null,
   "metadata": {},
   "outputs": [],
   "source": [
    "from sklearn.linear_model import LinearRegression\n",
    "reg = LinearRegression().fit(X_train, y_train)"
   ]
  },
  {
   "cell_type": "code",
   "execution_count": null,
   "metadata": {},
   "outputs": [],
   "source": [
    "from sklearn.ensemble import RandomForestRegressor\n",
    "regr = RandomForestRegressor(max_depth=27, random_state=1,n_estimators=8)\n",
    "regr.fit(X_train, y_train)"
   ]
  },
  {
   "cell_type": "code",
   "execution_count": null,
   "metadata": {},
   "outputs": [],
   "source": [
    "from sklearn.metrics import mean_squared_error\n",
    "msereg = mean_squared_error(y_test, reg.predict(X_test))\n",
    "mseregr = mean_squared_error(y_test, regr.predict(X_test))\n",
    "print(\"MSE regression lineaire : \",msereg)\n",
    "print(\"MSE foret regression lineaire : \",mseregr)"
   ]
  },
  {
   "cell_type": "code",
   "execution_count": null,
   "metadata": {},
   "outputs": [],
   "source": []
  },
  {
   "cell_type": "code",
   "execution_count": null,
   "metadata": {},
   "outputs": [],
   "source": [
    "from sklearn import model_selection\n",
    "\n",
    "from sklearn import metrics\n",
    "params = {'max_depth':(4,6,8,10,12,14,16,20),\n",
    "         'n_estimators':(4,8,16,24,48,72,96,128),\n",
    "         'min_samples_split':(2,4,6,8,10)}\n",
    "scoring_fnc = metrics.make_scorer(np.mean)\n",
    "grid = model_selection.RandomizedSearchCV(estimator=regr,param_distributions=params,cv=10)\n",
    "grid.fit(X_train, y_train)\n",
    "grid.best_params_,grid.best_score_"
   ]
  },
  {
   "cell_type": "code",
   "execution_count": null,
   "metadata": {},
   "outputs": [],
   "source": []
  }
 ],
 "metadata": {
  "kernelspec": {
   "display_name": "Python 3",
   "language": "python",
   "name": "python3"
  },
  "language_info": {
   "codemirror_mode": {
    "name": "ipython",
    "version": 3
   },
   "file_extension": ".py",
   "mimetype": "text/x-python",
   "name": "python",
   "nbconvert_exporter": "python",
   "pygments_lexer": "ipython3",
   "version": "3.6.5"
  }
 },
 "nbformat": 4,
 "nbformat_minor": 2
}
